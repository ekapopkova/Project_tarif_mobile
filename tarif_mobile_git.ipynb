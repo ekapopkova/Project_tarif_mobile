{
 "cells": [
  {
   "cell_type": "markdown",
   "id": "8a8c0e6b",
   "metadata": {},
   "source": [
    "# Рекомендация тарифов\n",
    "\n",
    "Оператор мобильной связи «Мегалайн» выяснил: многие клиенты пользуются архивными тарифами. Они хотят построить систему, способную проанализировать поведение клиентов и предложить пользователям новый тариф: «Смарт» или «Ультра».\n",
    "\n",
    "В нашем распоряжении данные о поведении клиентов, которые уже перешли на эти тарифы. Нужно построить модель для задачи классификации, которая выберет подходящий тариф. Предобработка данных не понадобится — её уже сделали.\n",
    "\n",
    "Необходимо построить модель с максимально большим значением accuracy. Нужно довести долю правильных ответов по крайней мере до 0.75. Затем надо проверьте accuracy на тестовой выборке.\n",
    "\n",
    "**Описание данных**\n",
    "\n",
    "Каждый объект в наборе данных — это информация о поведении одного пользователя за месяц. Известно:\n",
    "сalls — количество звонков,\n",
    "minutes — суммарная длительность звонков в минутах,\n",
    "messages — количество sms-сообщений,\n",
    "mb_used — израсходованный интернет-трафик в Мб,\n",
    "is_ultra — каким тарифом пользовался в течение месяца («Ультра» — 1, «Смарт» — 0)."
   ]
  },
  {
   "cell_type": "markdown",
   "id": "a3d6a145",
   "metadata": {},
   "source": [
    "## Откройте и изучите файл"
   ]
  },
  {
   "cell_type": "markdown",
   "id": "820eca3f",
   "metadata": {},
   "source": [
    "### Импортируем необходимые библиотеки"
   ]
  },
  {
   "cell_type": "code",
   "execution_count": 1,
   "id": "663b254c",
   "metadata": {},
   "outputs": [],
   "source": [
    "import pandas as pd\n",
    "from sklearn.model_selection import train_test_split\n",
    "from sklearn.tree import DecisionTreeClassifier\n",
    "from sklearn.metrics import accuracy_score\n",
    "from sklearn.ensemble import RandomForestClassifier\n",
    "from sklearn.linear_model import LogisticRegression\n",
    "from random import randint"
   ]
  },
  {
   "cell_type": "markdown",
   "id": "516c8225",
   "metadata": {},
   "source": [
    "### Cчитываем данные из файла и сохраняем их в переменную df, получаем общую информацию о датафрейме методом info() и выводим первые 5 строк датафрейма"
   ]
  },
  {
   "cell_type": "code",
   "execution_count": 2,
   "id": "de0d9cf8",
   "metadata": {},
   "outputs": [
    {
     "name": "stdout",
     "output_type": "stream",
     "text": [
      "<class 'pandas.core.frame.DataFrame'>\n",
      "RangeIndex: 3214 entries, 0 to 3213\n",
      "Data columns (total 5 columns):\n",
      " #   Column    Non-Null Count  Dtype  \n",
      "---  ------    --------------  -----  \n",
      " 0   calls     3214 non-null   float64\n",
      " 1   minutes   3214 non-null   float64\n",
      " 2   messages  3214 non-null   float64\n",
      " 3   mb_used   3214 non-null   float64\n",
      " 4   is_ultra  3214 non-null   int64  \n",
      "dtypes: float64(4), int64(1)\n",
      "memory usage: 125.7 KB\n",
      "None\n"
     ]
    },
    {
     "data": {
      "text/html": [
       "<div>\n",
       "<style scoped>\n",
       "    .dataframe tbody tr th:only-of-type {\n",
       "        vertical-align: middle;\n",
       "    }\n",
       "\n",
       "    .dataframe tbody tr th {\n",
       "        vertical-align: top;\n",
       "    }\n",
       "\n",
       "    .dataframe thead th {\n",
       "        text-align: right;\n",
       "    }\n",
       "</style>\n",
       "<table border=\"1\" class=\"dataframe\">\n",
       "  <thead>\n",
       "    <tr style=\"text-align: right;\">\n",
       "      <th></th>\n",
       "      <th>calls</th>\n",
       "      <th>minutes</th>\n",
       "      <th>messages</th>\n",
       "      <th>mb_used</th>\n",
       "      <th>is_ultra</th>\n",
       "    </tr>\n",
       "  </thead>\n",
       "  <tbody>\n",
       "    <tr>\n",
       "      <th>0</th>\n",
       "      <td>40.0</td>\n",
       "      <td>311.90</td>\n",
       "      <td>83.0</td>\n",
       "      <td>19915.42</td>\n",
       "      <td>0</td>\n",
       "    </tr>\n",
       "    <tr>\n",
       "      <th>1</th>\n",
       "      <td>85.0</td>\n",
       "      <td>516.75</td>\n",
       "      <td>56.0</td>\n",
       "      <td>22696.96</td>\n",
       "      <td>0</td>\n",
       "    </tr>\n",
       "    <tr>\n",
       "      <th>2</th>\n",
       "      <td>77.0</td>\n",
       "      <td>467.66</td>\n",
       "      <td>86.0</td>\n",
       "      <td>21060.45</td>\n",
       "      <td>0</td>\n",
       "    </tr>\n",
       "    <tr>\n",
       "      <th>3</th>\n",
       "      <td>106.0</td>\n",
       "      <td>745.53</td>\n",
       "      <td>81.0</td>\n",
       "      <td>8437.39</td>\n",
       "      <td>1</td>\n",
       "    </tr>\n",
       "    <tr>\n",
       "      <th>4</th>\n",
       "      <td>66.0</td>\n",
       "      <td>418.74</td>\n",
       "      <td>1.0</td>\n",
       "      <td>14502.75</td>\n",
       "      <td>0</td>\n",
       "    </tr>\n",
       "  </tbody>\n",
       "</table>\n",
       "</div>"
      ],
      "text/plain": [
       "   calls  minutes  messages   mb_used  is_ultra\n",
       "0   40.0   311.90      83.0  19915.42         0\n",
       "1   85.0   516.75      56.0  22696.96         0\n",
       "2   77.0   467.66      86.0  21060.45         0\n",
       "3  106.0   745.53      81.0   8437.39         1\n",
       "4   66.0   418.74       1.0  14502.75         0"
      ]
     },
     "execution_count": 2,
     "metadata": {},
     "output_type": "execute_result"
    }
   ],
   "source": [
    "df = pd.read_csv(r'D:\\Мои Документы\\Desktop\\Материалы по учебе\\Введение в машинное обучение\\users_behavior.csv')\n",
    "#df = pd.read_csv('/datasets/users_behavior.csv')\n",
    "print(df.info())\n",
    "df.head()"
   ]
  },
  {
   "cell_type": "markdown",
   "id": "cfe496af",
   "metadata": {},
   "source": [
    "#### В датасете 3214 строк и 5 столбцов, пропущенных данных нет."
   ]
  },
  {
   "cell_type": "markdown",
   "id": "1421cff9",
   "metadata": {},
   "source": [
    "### Методом describe()  и  с помощью посторения гистограм получаем инфоормацию о распределении данных в столбцах "
   ]
  },
  {
   "cell_type": "code",
   "execution_count": 3,
   "id": "a39b6fc7",
   "metadata": {},
   "outputs": [
    {
     "data": {
      "text/html": [
       "<div>\n",
       "<style scoped>\n",
       "    .dataframe tbody tr th:only-of-type {\n",
       "        vertical-align: middle;\n",
       "    }\n",
       "\n",
       "    .dataframe tbody tr th {\n",
       "        vertical-align: top;\n",
       "    }\n",
       "\n",
       "    .dataframe thead th {\n",
       "        text-align: right;\n",
       "    }\n",
       "</style>\n",
       "<table border=\"1\" class=\"dataframe\">\n",
       "  <thead>\n",
       "    <tr style=\"text-align: right;\">\n",
       "      <th></th>\n",
       "      <th>calls</th>\n",
       "      <th>minutes</th>\n",
       "      <th>messages</th>\n",
       "      <th>mb_used</th>\n",
       "      <th>is_ultra</th>\n",
       "    </tr>\n",
       "  </thead>\n",
       "  <tbody>\n",
       "    <tr>\n",
       "      <th>count</th>\n",
       "      <td>3214.000000</td>\n",
       "      <td>3214.000000</td>\n",
       "      <td>3214.000000</td>\n",
       "      <td>3214.000000</td>\n",
       "      <td>3214.000000</td>\n",
       "    </tr>\n",
       "    <tr>\n",
       "      <th>mean</th>\n",
       "      <td>63.038892</td>\n",
       "      <td>438.208787</td>\n",
       "      <td>38.281269</td>\n",
       "      <td>17207.673836</td>\n",
       "      <td>0.306472</td>\n",
       "    </tr>\n",
       "    <tr>\n",
       "      <th>std</th>\n",
       "      <td>33.236368</td>\n",
       "      <td>234.569872</td>\n",
       "      <td>36.148326</td>\n",
       "      <td>7570.968246</td>\n",
       "      <td>0.461100</td>\n",
       "    </tr>\n",
       "    <tr>\n",
       "      <th>min</th>\n",
       "      <td>0.000000</td>\n",
       "      <td>0.000000</td>\n",
       "      <td>0.000000</td>\n",
       "      <td>0.000000</td>\n",
       "      <td>0.000000</td>\n",
       "    </tr>\n",
       "    <tr>\n",
       "      <th>25%</th>\n",
       "      <td>40.000000</td>\n",
       "      <td>274.575000</td>\n",
       "      <td>9.000000</td>\n",
       "      <td>12491.902500</td>\n",
       "      <td>0.000000</td>\n",
       "    </tr>\n",
       "    <tr>\n",
       "      <th>50%</th>\n",
       "      <td>62.000000</td>\n",
       "      <td>430.600000</td>\n",
       "      <td>30.000000</td>\n",
       "      <td>16943.235000</td>\n",
       "      <td>0.000000</td>\n",
       "    </tr>\n",
       "    <tr>\n",
       "      <th>75%</th>\n",
       "      <td>82.000000</td>\n",
       "      <td>571.927500</td>\n",
       "      <td>57.000000</td>\n",
       "      <td>21424.700000</td>\n",
       "      <td>1.000000</td>\n",
       "    </tr>\n",
       "    <tr>\n",
       "      <th>max</th>\n",
       "      <td>244.000000</td>\n",
       "      <td>1632.060000</td>\n",
       "      <td>224.000000</td>\n",
       "      <td>49745.730000</td>\n",
       "      <td>1.000000</td>\n",
       "    </tr>\n",
       "  </tbody>\n",
       "</table>\n",
       "</div>"
      ],
      "text/plain": [
       "             calls      minutes     messages       mb_used     is_ultra\n",
       "count  3214.000000  3214.000000  3214.000000   3214.000000  3214.000000\n",
       "mean     63.038892   438.208787    38.281269  17207.673836     0.306472\n",
       "std      33.236368   234.569872    36.148326   7570.968246     0.461100\n",
       "min       0.000000     0.000000     0.000000      0.000000     0.000000\n",
       "25%      40.000000   274.575000     9.000000  12491.902500     0.000000\n",
       "50%      62.000000   430.600000    30.000000  16943.235000     0.000000\n",
       "75%      82.000000   571.927500    57.000000  21424.700000     1.000000\n",
       "max     244.000000  1632.060000   224.000000  49745.730000     1.000000"
      ]
     },
     "execution_count": 3,
     "metadata": {},
     "output_type": "execute_result"
    }
   ],
   "source": [
    "df.describe()"
   ]
  },
  {
   "cell_type": "code",
   "execution_count": 5,
   "id": "b839683f",
   "metadata": {},
   "outputs": [
    {
     "data": {
      "image/png": "[encoded data removed]",
      "text/plain": [
       "<Figure size 1000x1000 with 6 Axes>"
      ]
     },
     "metadata": {},
     "output_type": "display_data"
    }
   ],
   "source": [
    "df.hist(figsize=(10, 10));"
   ]
  },
  {
   "cell_type": "markdown",
   "id": "13a19238",
   "metadata": {},
   "source": [
    "#### Все распределения выглядят вполне логичными. Людей, использующих тариф \"Смарт\" в 2 с лишним раза больше, чем людей использующих тариф \"Ультра\""
   ]
  },
  {
   "cell_type": "markdown",
   "id": "879e1c02",
   "metadata": {},
   "source": [
    "## Разбиваем данные на выборки"
   ]
  },
  {
   "cell_type": "markdown",
   "id": "6d899bde",
   "metadata": {},
   "source": [
    "###  Разделяем исходные данные на три выборки: обучающую (60%), валидационную (20%) и тестовую(20%) с помощью функции train_test_split из sklearn.model_selection"
   ]
  },
  {
   "cell_type": "markdown",
   "id": "25ec5ac0",
   "metadata": {},
   "source": [
    "#### Разбиваем датасет df на два датасета features (датасет с признаками) и target (датасет со значениями целевого признака)"
   ]
  },
  {
   "cell_type": "code",
   "execution_count": 5,
   "id": "0d333f90",
   "metadata": {},
   "outputs": [
    {
     "data": {
      "text/html": [
       "<div>\n",
       "<style scoped>\n",
       "    .dataframe tbody tr th:only-of-type {\n",
       "        vertical-align: middle;\n",
       "    }\n",
       "\n",
       "    .dataframe tbody tr th {\n",
       "        vertical-align: top;\n",
       "    }\n",
       "\n",
       "    .dataframe thead th {\n",
       "        text-align: right;\n",
       "    }\n",
       "</style>\n",
       "<table border=\"1\" class=\"dataframe\">\n",
       "  <thead>\n",
       "    <tr style=\"text-align: right;\">\n",
       "      <th></th>\n",
       "      <th>calls</th>\n",
       "      <th>minutes</th>\n",
       "      <th>messages</th>\n",
       "      <th>mb_used</th>\n",
       "    </tr>\n",
       "  </thead>\n",
       "  <tbody>\n",
       "    <tr>\n",
       "      <th>0</th>\n",
       "      <td>40.0</td>\n",
       "      <td>311.90</td>\n",
       "      <td>83.0</td>\n",
       "      <td>19915.42</td>\n",
       "    </tr>\n",
       "    <tr>\n",
       "      <th>1</th>\n",
       "      <td>85.0</td>\n",
       "      <td>516.75</td>\n",
       "      <td>56.0</td>\n",
       "      <td>22696.96</td>\n",
       "    </tr>\n",
       "    <tr>\n",
       "      <th>2</th>\n",
       "      <td>77.0</td>\n",
       "      <td>467.66</td>\n",
       "      <td>86.0</td>\n",
       "      <td>21060.45</td>\n",
       "    </tr>\n",
       "    <tr>\n",
       "      <th>3</th>\n",
       "      <td>106.0</td>\n",
       "      <td>745.53</td>\n",
       "      <td>81.0</td>\n",
       "      <td>8437.39</td>\n",
       "    </tr>\n",
       "    <tr>\n",
       "      <th>4</th>\n",
       "      <td>66.0</td>\n",
       "      <td>418.74</td>\n",
       "      <td>1.0</td>\n",
       "      <td>14502.75</td>\n",
       "    </tr>\n",
       "  </tbody>\n",
       "</table>\n",
       "</div>"
      ],
      "text/plain": [
       "   calls  minutes  messages   mb_used\n",
       "0   40.0   311.90      83.0  19915.42\n",
       "1   85.0   516.75      56.0  22696.96\n",
       "2   77.0   467.66      86.0  21060.45\n",
       "3  106.0   745.53      81.0   8437.39\n",
       "4   66.0   418.74       1.0  14502.75"
      ]
     },
     "execution_count": 5,
     "metadata": {},
     "output_type": "execute_result"
    }
   ],
   "source": [
    "features = df.drop(['is_ultra'], axis=1)\n",
    "features.head()"
   ]
  },
  {
   "cell_type": "code",
   "execution_count": 6,
   "id": "12a743ef",
   "metadata": {},
   "outputs": [
    {
     "data": {
      "text/plain": [
       "0    0\n",
       "1    0\n",
       "2    0\n",
       "3    1\n",
       "4    0\n",
       "Name: is_ultra, dtype: int64"
      ]
     },
     "execution_count": 6,
     "metadata": {},
     "output_type": "execute_result"
    }
   ],
   "source": [
    "target = df['is_ultra']\n",
    "target.head()"
   ]
  },
  {
   "cell_type": "markdown",
   "id": "c81b8ba5",
   "metadata": {},
   "source": [
    "#### Разделяем исходные features и target сначала на две выборки: обучающую и выборку, которую будет потом делить на валидационную и тестовую"
   ]
  },
  {
   "cell_type": "code",
   "execution_count": 7,
   "id": "10f7d752",
   "metadata": {},
   "outputs": [
    {
     "name": "stdout",
     "output_type": "stream",
     "text": [
      "(1928, 4)\n"
     ]
    },
    {
     "data": {
      "text/plain": [
       "(1928,)"
      ]
     },
     "execution_count": 7,
     "metadata": {},
     "output_type": "execute_result"
    }
   ],
   "source": [
    "features_train, features_y, target_train, target_y = train_test_split(features, target, test_size=0.4, random_state=12345 )\n",
    "print(features_train.shape)\n",
    "target_train.shape"
   ]
  },
  {
   "cell_type": "markdown",
   "id": "52cac02a",
   "metadata": {},
   "source": [
    "#### Разделяем выборки features_y и target_y на валидационную и тестовую"
   ]
  },
  {
   "cell_type": "code",
   "execution_count": 8,
   "id": "ab2b19eb",
   "metadata": {},
   "outputs": [
    {
     "name": "stdout",
     "output_type": "stream",
     "text": [
      "(643, 4)\n",
      "(643, 4)\n",
      "(643,)\n"
     ]
    },
    {
     "data": {
      "text/plain": [
       "(643,)"
      ]
     },
     "execution_count": 8,
     "metadata": {},
     "output_type": "execute_result"
    }
   ],
   "source": [
    "features_valid, features_test, target_valid, target_test = train_test_split(features_y, target_y, test_size=0.5, \n",
    "                                                                            random_state=12345 )\n",
    "print(features_valid.shape)\n",
    "print(features_test.shape)\n",
    "print(target_valid.shape)\n",
    "target_test.shape"
   ]
  },
  {
   "cell_type": "code",
   "execution_count": 9,
   "id": "bfa6044f",
   "metadata": {},
   "outputs": [
    {
     "data": {
      "text/plain": [
       "0    1335\n",
       "1     593\n",
       "Name: is_ultra, dtype: int64"
      ]
     },
     "execution_count": 9,
     "metadata": {},
     "output_type": "execute_result"
    }
   ],
   "source": [
    "target_train.value_counts()"
   ]
  },
  {
   "cell_type": "code",
   "execution_count": 10,
   "id": "f52dc3cb",
   "metadata": {},
   "outputs": [
    {
     "data": {
      "text/plain": [
       "0    454\n",
       "1    189\n",
       "Name: is_ultra, dtype: int64"
      ]
     },
     "execution_count": 10,
     "metadata": {},
     "output_type": "execute_result"
    }
   ],
   "source": [
    "target_valid.value_counts()"
   ]
  },
  {
   "cell_type": "code",
   "execution_count": 11,
   "id": "767de315",
   "metadata": {},
   "outputs": [
    {
     "data": {
      "text/plain": [
       "0    440\n",
       "1    203\n",
       "Name: is_ultra, dtype: int64"
      ]
     },
     "execution_count": 11,
     "metadata": {},
     "output_type": "execute_result"
    }
   ],
   "source": [
    "target_test.value_counts()"
   ]
  },
  {
   "cell_type": "markdown",
   "id": "0f008f25",
   "metadata": {},
   "source": [
    "##  Исследуем модели"
   ]
  },
  {
   "cell_type": "markdown",
   "id": "c594b833",
   "metadata": {},
   "source": [
    "### Исследуем модель решающее дерево."
   ]
  },
  {
   "cell_type": "markdown",
   "id": "1de07dbb",
   "metadata": {},
   "source": [
    "#### Самый важный параметр для решающего дерева, глубина дерева, попробуем поменять величину max_depth с 1 до 10 и min_samples_leaf  от 1 до 6. Запомнить лучшую модель."
   ]
  },
  {
   "cell_type": "code",
   "execution_count": 12,
   "id": "89201da3",
   "metadata": {},
   "outputs": [
    {
     "data": {
      "text/plain": [
       "'Accuracy лучшей модели: 0.7869362363919129, глубина дерева: 6, best_min_samples:4'"
      ]
     },
     "execution_count": 12,
     "metadata": {},
     "output_type": "execute_result"
    }
   ],
   "source": [
    "best_model_tree = None\n",
    "best_result_tree = 0\n",
    "best_depth_tree = 0\n",
    "best_min_samples_leaf = 0\n",
    "for depth in range (1,11):\n",
    "    for leaf in range (1,6):\n",
    "        model_1 = DecisionTreeClassifier(random_state=12345, max_depth=depth, min_samples_split=2, min_samples_leaf=leaf)\n",
    "        model_1.fit(features_train, target_train)\n",
    "        predictions = model_1.predict(features_valid)\n",
    "        result = accuracy_score(target_valid, predictions)\n",
    "        if result > best_result_tree:\n",
    "            best_model_tree = model_1\n",
    "            best_result_tree = result\n",
    "            best_depth_tree = depth\n",
    "            best_min_samples_leaf = leaf\n",
    "f'Accuracy лучшей модели: {best_result_tree}, глубина дерева: {best_depth_tree}, best_min_samples:{best_min_samples_leaf}' \n"
   ]
  },
  {
   "cell_type": "markdown",
   "id": "193ce236",
   "metadata": {},
   "source": [
    "####  Задавала разные интервалы изменения глубины дерева, получила наилучший результат на глубине дерева 3 -  0.7853810264385692. Затем еще добавила гиперпараметры min_samples_split и  min_samples_leaf, за счет изменения параметра min_samples_leaf до 4, чуть улучшила модель. Так как по условиям задания доля правильных ответов должна быть не менее 0.75 решила проверить эту модель на тестовой выборке."
   ]
  },
  {
   "cell_type": "markdown",
   "id": "d6a1ca4b",
   "metadata": {},
   "source": [
    "### Исследуем модель решающий лес"
   ]
  },
  {
   "cell_type": "markdown",
   "id": "0c40ea49",
   "metadata": {},
   "source": [
    "#### Подбираем наиболее оптимальное значение гиперпараметров n_estimators и max_depth "
   ]
  },
  {
   "cell_type": "code",
   "execution_count": 13,
   "id": "8a4ef739",
   "metadata": {},
   "outputs": [
    {
     "data": {
      "text/plain": [
       "'Accuracy лучшей модели: 0.8087091757387247, глубина дерева: 8, число деревьев 40'"
      ]
     },
     "execution_count": 13,
     "metadata": {},
     "output_type": "execute_result"
    }
   ],
   "source": [
    "best_model_forest = None\n",
    "best_result_forest = 0\n",
    "best_depth_forest = 0\n",
    "best_est = 0\n",
    "for est in range (10,101,10):\n",
    "    for depths in range (1,11):\n",
    "        model_2 = RandomForestClassifier(random_state=12345, n_estimators=est, max_depth=depths)\n",
    "        model_2.fit(features_train, target_train)\n",
    "        predictions_forest = model_2.predict(features_valid)\n",
    "        result_2 = accuracy_score(target_valid, predictions_forest)\n",
    "        if result_2 > best_result_forest:\n",
    "            best_model_forest = model_2\n",
    "            best_result_forest = result_2\n",
    "            best_depth_forest = depths\n",
    "            best_est = est\n",
    "f'Accuracy лучшей модели: {best_result_forest}, глубина дерева: {best_depth_forest}, число деревьев {best_est}' "
   ]
  },
  {
   "cell_type": "markdown",
   "id": "d4d1d7c1",
   "metadata": {},
   "source": [
    "Получила лучший результат на глубине дерева 8 и числе деревьев 40, результат выше, чем на у модели 'Решающее дерево', скорость ниже.  Полученный результат соответсвует задаче, протестируем данную модель на тестовой выборке."
   ]
  },
  {
   "cell_type": "markdown",
   "id": "bba3e6e2",
   "metadata": {},
   "source": [
    "#### Добавим еже 1 параметр min_samples_split в диапазоне от 2 до 6."
   ]
  },
  {
   "cell_type": "code",
   "execution_count": 14,
   "id": "5251293b",
   "metadata": {},
   "outputs": [
    {
     "data": {
      "text/plain": [
       "'Accuracy лучшей модели: 0.8102643856920684, глубина дерева: 7, число деревьев 40, min_samples_split 5'"
      ]
     },
     "execution_count": 14,
     "metadata": {},
     "output_type": "execute_result"
    }
   ],
   "source": [
    "best_model_forest_2 = None\n",
    "best_result_forest_2 = 0\n",
    "best_depth_forest_2 = 0\n",
    "best_est_2 = 0\n",
    "for est_2 in range (10,101,10):\n",
    "    for depth_2 in range (1,11):\n",
    "        for split in range (2,6):\n",
    "            model_2f = RandomForestClassifier(random_state=12345, n_estimators=est_2, max_depth=depth_2, \n",
    "                                          min_samples_split=split, min_samples_leaf=1, criterion='gini')\n",
    "            model_2f.fit(features_train, target_train)\n",
    "            predictions_forest_2 = model_2f.predict(features_valid)\n",
    "            result_2f = accuracy_score(target_valid,  predictions_forest_2)\n",
    "            if result_2f > best_result_forest_2:\n",
    "                best_model_forest_2 = model_2f\n",
    "                best_result_forest_2 = result_2f\n",
    "                best_depth_forest_2 = depth_2\n",
    "                best_est_2 = est_2\n",
    "                best_split = split\n",
    "f'Accuracy лучшей модели: {best_result_forest_2}, глубина дерева: {best_depth_forest_2}, число деревьев {best_est_2}, min_samples_split {split}' "
   ]
  },
  {
   "cell_type": "markdown",
   "id": "45c67e9b",
   "metadata": {},
   "source": [
    "Получили результат лучше - 'Accuracy лучшей модели: 0.8102643856920684, глубина дерева: 7, число деревьев 40, min_samples_split 5'"
   ]
  },
  {
   "cell_type": "markdown",
   "id": "62da0a88",
   "metadata": {},
   "source": [
    "### Исследуем модель логистичекская регрессия"
   ]
  },
  {
   "cell_type": "markdown",
   "id": "5ea1f337",
   "metadata": {},
   "source": [
    "#### Здесь попробуем менять решающий алгоритм и число итераций "
   ]
  },
  {
   "cell_type": "code",
   "execution_count": 15,
   "id": "a5b3011c",
   "metadata": {},
   "outputs": [
    {
     "data": {
      "text/plain": [
       "'Accuracy лучшей модели: 0.7107309486780715, количество итераций: 100, solver лучшей модели: lbfgs'"
      ]
     },
     "execution_count": 15,
     "metadata": {},
     "output_type": "execute_result"
    }
   ],
   "source": [
    "best_model_logistic = None\n",
    "best_result_logistic = 0\n",
    "best_max_iter = 0\n",
    "solvers = ['lbfgs', 'liblinear'] \n",
    "for solv in solvers:\n",
    "    for iteration in (100, 1101, 100):\n",
    "        model_3 = LogisticRegression(random_state=12345, solver=solv, max_iter=iteration, penalty='l2')\n",
    "        model_3.fit(features_train, target_train)\n",
    "        result_3 = model_3.score(features_valid, target_valid)\n",
    "        if result_3 > best_result_logistic:\n",
    "            best_model_logistic = model_3\n",
    "            best_result_logistic =  result_3\n",
    "            best_max_iter = iteration\n",
    "            best_solvers = solv\n",
    "\n",
    "f'Accuracy лучшей модели: {best_result_logistic}, количество итераций: {best_max_iter}, solver лучшей модели: {best_solvers}' "
   ]
  },
  {
   "cell_type": "markdown",
   "id": "90a06cf8",
   "metadata": {},
   "source": [
    "Так как варианты penalty l1 и l2  возможны только у решающего алгоритма 'liblinear' из рассмотренных выше, то меняю этот парметр ниже    \n"
   ]
  },
  {
   "cell_type": "code",
   "execution_count": 16,
   "id": "fe82d49d",
   "metadata": {},
   "outputs": [
    {
     "data": {
      "text/plain": [
       "'Solver: liblinear, Accuracy лучшей модели: 0.7573872472783826, количество итераций: 100, penalty лучшей модели: l1'"
      ]
     },
     "execution_count": 16,
     "metadata": {},
     "output_type": "execute_result"
    }
   ],
   "source": [
    "best_model_logistic_2 = None\n",
    "best_result_logistic_2 = 0\n",
    "best_max_iter_2 = 0\n",
    "penaltys = ['l1', 'l2'] \n",
    "for penaltys in penaltys:\n",
    "    for iterations in (100, 1101, 100):\n",
    "        model_regression = LogisticRegression(random_state=12345, solver='liblinear', max_iter=iterations, penalty=penaltys)\n",
    "        model_regression.fit(features_train, target_train)\n",
    "        result_4 = model_regression.score(features_valid, target_valid)\n",
    "        if result_4 > best_result_logistic_2:\n",
    "            best_model_logistic_2 = model_regression\n",
    "            best_result_logistic_2 =  result_4\n",
    "            best_max_iter_2 = iterations\n",
    "            best_penaltys = penaltys\n",
    "\n",
    "f'Solver: liblinear, Accuracy лучшей модели: {best_result_logistic_2}, количество итераций: {best_max_iter_2}, penalty лучшей модели: {best_penaltys}' "
   ]
  },
  {
   "cell_type": "markdown",
   "id": "3eedd525",
   "metadata": {},
   "source": [
    "Качество модели с такими значениями гиперпараметров стало лучше."
   ]
  },
  {
   "cell_type": "markdown",
   "id": "b440e71d",
   "metadata": {},
   "source": [
    "#### Качество данной модели не устраивает, не будем ее тестировать на тестовой выборке"
   ]
  },
  {
   "cell_type": "markdown",
   "id": "4dfe5773",
   "metadata": {},
   "source": [
    "## Проверяем качество моделей на тестовой выборке"
   ]
  },
  {
   "cell_type": "markdown",
   "id": "b05e3ad7",
   "metadata": {},
   "source": [
    "### Проверяем качество модели решающее дерево на тестовой выборке"
   ]
  },
  {
   "cell_type": "code",
   "execution_count": 17,
   "id": "4719b02e",
   "metadata": {},
   "outputs": [
    {
     "data": {
      "text/plain": [
       "0.7791601866251944"
      ]
     },
     "execution_count": 17,
     "metadata": {},
     "output_type": "execute_result"
    }
   ],
   "source": [
    "result_tree_test = best_model_tree.score(features_test, target_test)\n",
    "result_tree_test"
   ]
  },
  {
   "cell_type": "markdown",
   "id": "89d45b7a",
   "metadata": {},
   "source": [
    "### Проверяем качество модели случайный лес на тестовой выборке"
   ]
  },
  {
   "cell_type": "code",
   "execution_count": 19,
   "id": "d5b3e513",
   "metadata": {},
   "outputs": [
    {
     "data": {
      "text/plain": [
       "0.8009331259720062"
      ]
     },
     "execution_count": 19,
     "metadata": {},
     "output_type": "execute_result"
    }
   ],
   "source": [
    "resalt_forest_test_2 = best_model_forest_2.score(features_test, target_test) \n",
    "resalt_forest_test_2    "
   ]
  },
  {
   "cell_type": "markdown",
   "id": "76080de0",
   "metadata": {},
   "source": [
    "#### Проверив результаты работы моделей на тестовой выборке, получили следующие результаты:\n",
    "Качество работы модели \"Случайный лес\" на тестовой выборке чуть лучше, чем качество работы модели \"Решающее дерево\", доля правильный ответов составляет 0.796, а доля правильных ответов модели \"Рещающее дерево\" - 0.801. Поэтому вибираем модель \"Случайный лес\"."
   ]
  },
  {
   "cell_type": "markdown",
   "id": "d0cf2af2",
   "metadata": {},
   "source": [
    "## Проверяем модель \"Случайный лес\" на вменяемость\n"
   ]
  },
  {
   "cell_type": "markdown",
   "id": "dd423934",
   "metadata": {},
   "source": [
    "Для проверки модели сравниваем ее со случайной моделью, которая предсказывает все объекты случайным образом, т.е. с вероятностью 50/50 ответ будет 0 или 1. Для этого создаем Series со случайными значениями (0,1) величиной с тестовую выборку. Сравним эти значения с ответами тестовой выборки."
   ]
  },
  {
   "cell_type": "code",
   "execution_count": 20,
   "id": "4a613a8e",
   "metadata": {},
   "outputs": [
    {
     "name": "stdout",
     "output_type": "stream",
     "text": [
      "(643,)\n"
     ]
    },
    {
     "data": {
      "text/plain": [
       "1    323\n",
       "0    320\n",
       "dtype: int64"
      ]
     },
     "execution_count": 20,
     "metadata": {},
     "output_type": "execute_result"
    }
   ],
   "source": [
    "a = []\n",
    "for i in range(len(target_test)):\n",
    "    b = randint(0,1)\n",
    "    a.append(b)\n",
    "a = pd.Series(a)\n",
    "print(a.shape)\n",
    "a.value_counts()   "
   ]
  },
  {
   "cell_type": "code",
   "execution_count": 21,
   "id": "5a622c72",
   "metadata": {},
   "outputs": [
    {
     "data": {
      "text/plain": [
       "0.4867807153965785"
      ]
     },
     "execution_count": 21,
     "metadata": {},
     "output_type": "execute_result"
    }
   ],
   "source": [
    "accuracy = accuracy_score(target_test, a)\n",
    "accuracy"
   ]
  },
  {
   "cell_type": "markdown",
   "id": "0d141a84",
   "metadata": {},
   "source": [
    "Проверим на вменяемость при помощи модели DummyClassifier"
   ]
  },
  {
   "cell_type": "code",
   "execution_count": 22,
   "id": "294ec782",
   "metadata": {},
   "outputs": [
    {
     "data": {
      "text/plain": [
       "0.6842923794712286"
      ]
     },
     "execution_count": 22,
     "metadata": {},
     "output_type": "execute_result"
    }
   ],
   "source": [
    "from sklearn.dummy import DummyClassifier\n",
    "\n",
    "model_const = DummyClassifier(strategy=\"most_frequent\", random_state=12345)\n",
    "model_const.fit(features_train, target_train)\n",
    "accuracy_const = model_const.score(features_test, target_test)\n",
    "accuracy_const"
   ]
  },
  {
   "cell_type": "markdown",
   "id": "2b6c12c0",
   "metadata": {},
   "source": [
    "#### При сравнении с данной моделью качество модели \"Случайный лес\" также выше, следовательно модель вменяемая"
   ]
  },
  {
   "cell_type": "markdown",
   "id": "5cff959c",
   "metadata": {},
   "source": [
    "### Итоговый вывод:\n",
    "1. Изучив данные о поведении клиентов, которые уже перешли на тарифы \"Самарт\" и \"Ультра\", увидели что пропусков в данных нет, распределения значений в столбцах выглядят логичными, количество клиентов, использующих тариф \"Самарт\" больше, чем в 2 раза превышает количество клиентов, использующих тариф \"Ультра\".\n",
    "2. Провели обучение трех моделей и получили следующие результы оценки их качества на валидационной выборке:\n",
    "Модель \"Решающее дерево\" - 0.79 \n",
    "Модель \"Случайный лес\" - 0.81\n",
    "Модель \"Логистическая регрессия - 0.71\n",
    "Для тестирования моделей на тестовой выборке были выбраны две модели \"Решающее дерево\" и \"Случайный лес\", т.к. их значения качества давольно близкие и соответсвует изначальной задаче.\n",
    "3. Провели тестирование обученных моделей на тестовой выборке и получили следующие результтаты качества моделей. \n",
    "Модель \"Решающее дерево\" - 0.78 \n",
    "Модель \"Случайный лес\" - 0.8\n",
    "Такимм образом, модель \"Случайный лес\" показала наилучшие результаты по качеству модели.\n",
    "4. Проверели модель \"Случайный лес\" на вменяемость путем сравнения показателей ее качества и качества случайной модели (предсказывает все объекты случайным образом, т.е. с вероятностью 50/50 ответ будет 0 или 1). Качество случайной модели (0.51)  хуже, чем качество модели \"Случайный лес\" (0.8), соответсвенно модель вменяемая."
   ]
  }
 ],
 "metadata": {
  "ExecuteTimeLog": [
   {
    "duration": 1103,
    "start_time": "2023-04-12T10:09:32.729Z"
   },
   {
    "duration": 80,
    "start_time": "2023-04-12T10:09:33.834Z"
   },
   {
    "duration": 21,
    "start_time": "2023-04-12T10:09:33.916Z"
   },
   {
    "duration": 751,
    "start_time": "2023-04-12T10:09:33.939Z"
   },
   {
    "duration": 9,
    "start_time": "2023-04-12T10:09:34.692Z"
   },
   {
    "duration": 6,
    "start_time": "2023-04-12T10:09:34.702Z"
   },
   {
    "duration": 8,
    "start_time": "2023-04-12T10:09:34.710Z"
   },
   {
    "duration": 21,
    "start_time": "2023-04-12T10:09:34.720Z"
   },
   {
    "duration": 4,
    "start_time": "2023-04-12T10:09:34.743Z"
   },
   {
    "duration": 5,
    "start_time": "2023-04-12T10:09:34.749Z"
   },
   {
    "duration": 11,
    "start_time": "2023-04-12T10:09:34.756Z"
   },
   {
    "duration": 291,
    "start_time": "2023-04-12T10:09:34.769Z"
   },
   {
    "duration": 11690,
    "start_time": "2023-04-12T10:09:35.061Z"
   },
   {
    "duration": 74,
    "start_time": "2023-04-12T10:09:46.752Z"
   },
   {
    "duration": 7,
    "start_time": "2023-04-12T10:09:46.835Z"
   },
   {
    "duration": 18,
    "start_time": "2023-04-12T10:09:46.843Z"
   },
   {
    "duration": 7,
    "start_time": "2023-04-12T10:09:46.862Z"
   },
   {
    "duration": 5,
    "start_time": "2023-04-12T10:09:46.870Z"
   },
   {
    "duration": 4,
    "start_time": "2023-04-12T10:23:10.153Z"
   },
   {
    "duration": 6,
    "start_time": "2023-04-12T10:23:22.085Z"
   },
   {
    "duration": 6,
    "start_time": "2023-04-12T10:28:16.904Z"
   },
   {
    "duration": 101,
    "start_time": "2023-04-12T10:34:37.465Z"
   },
   {
    "duration": 12,
    "start_time": "2023-04-12T10:35:13.524Z"
   },
   {
    "duration": 75,
    "start_time": "2023-04-12T10:35:37.644Z"
   },
   {
    "duration": 92,
    "start_time": "2023-04-12T10:35:57.503Z"
   },
   {
    "duration": 42,
    "start_time": "2023-04-12T10:39:40.707Z"
   },
   {
    "duration": 17,
    "start_time": "2023-04-12T10:48:45.577Z"
   },
   {
    "duration": 46,
    "start_time": "2023-04-12T10:49:33.740Z"
   },
   {
    "duration": 105,
    "start_time": "2023-04-12T10:50:25.734Z"
   },
   {
    "duration": 45,
    "start_time": "2023-04-12T10:53:41.579Z"
   },
   {
    "duration": 45,
    "start_time": "2023-04-12T10:53:58.020Z"
   },
   {
    "duration": 13965,
    "start_time": "2023-04-12T11:00:56.348Z"
   },
   {
    "duration": 5,
    "start_time": "2023-04-12T11:01:44.836Z"
   },
   {
    "duration": 13518,
    "start_time": "2023-04-12T11:02:56.810Z"
   },
   {
    "duration": 12927,
    "start_time": "2023-04-12T11:07:27.052Z"
   },
   {
    "duration": 13686,
    "start_time": "2023-04-12T11:08:53.754Z"
   },
   {
    "duration": 13376,
    "start_time": "2023-04-12T11:10:02.706Z"
   },
   {
    "duration": 13912,
    "start_time": "2023-04-12T11:10:24.550Z"
   },
   {
    "duration": 12906,
    "start_time": "2023-04-12T11:11:10.956Z"
   },
   {
    "duration": 12601,
    "start_time": "2023-04-12T11:11:35.074Z"
   },
   {
    "duration": 13039,
    "start_time": "2023-04-12T11:12:03.358Z"
   },
   {
    "duration": 12631,
    "start_time": "2023-04-12T11:12:30.061Z"
   },
   {
    "duration": 12911,
    "start_time": "2023-04-12T11:13:10.166Z"
   },
   {
    "duration": 12670,
    "start_time": "2023-04-12T11:13:34.490Z"
   },
   {
    "duration": 13393,
    "start_time": "2023-04-12T11:14:00.678Z"
   },
   {
    "duration": 12941,
    "start_time": "2023-04-12T11:14:27.366Z"
   },
   {
    "duration": 13401,
    "start_time": "2023-04-12T11:14:46.850Z"
   },
   {
    "duration": 13387,
    "start_time": "2023-04-12T11:15:58.080Z"
   },
   {
    "duration": 13100,
    "start_time": "2023-04-12T11:16:22.583Z"
   },
   {
    "duration": 13120,
    "start_time": "2023-04-12T11:16:48.256Z"
   },
   {
    "duration": 12790,
    "start_time": "2023-04-12T11:17:24.798Z"
   },
   {
    "duration": 50332,
    "start_time": "2023-04-12T11:20:32.976Z"
   },
   {
    "duration": 51367,
    "start_time": "2023-04-12T11:21:59.099Z"
   },
   {
    "duration": 59265,
    "start_time": "2023-04-12T11:23:56.176Z"
   },
   {
    "duration": 36,
    "start_time": "2023-04-12T11:25:51.550Z"
   },
   {
    "duration": 51954,
    "start_time": "2023-04-12T11:26:58.960Z"
   },
   {
    "duration": 14,
    "start_time": "2023-04-12T11:36:37.518Z"
   },
   {
    "duration": 19,
    "start_time": "2023-04-12T11:37:16.554Z"
   },
   {
    "duration": 22,
    "start_time": "2023-04-12T11:38:20.226Z"
   },
   {
    "duration": 1156,
    "start_time": "2023-04-12T11:40:22.621Z"
   },
   {
    "duration": 45,
    "start_time": "2023-04-12T11:40:23.779Z"
   },
   {
    "duration": 31,
    "start_time": "2023-04-12T11:40:23.825Z"
   },
   {
    "duration": 661,
    "start_time": "2023-04-12T11:40:23.863Z"
   },
   {
    "duration": 33,
    "start_time": "2023-04-12T11:40:24.526Z"
   },
   {
    "duration": 6,
    "start_time": "2023-04-12T11:40:24.562Z"
   },
   {
    "duration": 10,
    "start_time": "2023-04-12T11:40:24.569Z"
   },
   {
    "duration": 7,
    "start_time": "2023-04-12T11:40:24.581Z"
   },
   {
    "duration": 5,
    "start_time": "2023-04-12T11:40:24.589Z"
   },
   {
    "duration": 5,
    "start_time": "2023-04-12T11:40:24.596Z"
   },
   {
    "duration": 6,
    "start_time": "2023-04-12T11:40:24.602Z"
   },
   {
    "duration": 356,
    "start_time": "2023-04-12T11:40:24.609Z"
   },
   {
    "duration": 13067,
    "start_time": "2023-04-12T11:40:24.967Z"
   },
   {
    "duration": 52228,
    "start_time": "2023-04-12T11:40:38.036Z"
   },
   {
    "duration": 94,
    "start_time": "2023-04-12T11:41:30.266Z"
   },
   {
    "duration": 43,
    "start_time": "2023-04-12T11:41:30.362Z"
   },
   {
    "duration": 8,
    "start_time": "2023-04-12T11:41:30.407Z"
   },
   {
    "duration": 59,
    "start_time": "2023-04-12T11:41:30.416Z"
   },
   {
    "duration": 27,
    "start_time": "2023-04-12T11:41:30.477Z"
   },
   {
    "duration": 43,
    "start_time": "2023-04-12T11:41:30.506Z"
   },
   {
    "duration": 45,
    "start_time": "2023-04-12T11:41:30.551Z"
   },
   {
    "duration": 89,
    "start_time": "2023-04-12T11:41:30.598Z"
   }
  ],
  "kernelspec": {
   "display_name": "Python 3 (ipykernel)",
   "language": "python",
   "name": "python3"
  },
  "language_info": {
   "codemirror_mode": {
    "name": "ipython",
    "version": 3
   },
   "file_extension": ".py",
   "mimetype": "text/x-python",
   "name": "python",
   "nbconvert_exporter": "python",
   "pygments_lexer": "ipython3",
   "version": "3.9.13"
  },
  "toc": {
   "base_numbering": 1,
   "nav_menu": {},
   "number_sections": true,
   "sideBar": true,
   "skip_h1_title": true,
   "title_cell": "Table of Contents",
   "title_sidebar": "Contents",
   "toc_cell": false,
   "toc_position": {},
   "toc_section_display": true,
   "toc_window_display": false
  }
 },
 "nbformat": 4,
 "nbformat_minor": 5
}
